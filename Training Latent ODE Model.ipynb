{
 "cells": [
  {
   "cell_type": "markdown",
   "metadata": {},
   "source": [
    "# Training the latent ODE model\n",
    "<strong>From appendix D</strong>\n",
    "\n",
    "To obtain the latent representation $z_{t_{0}}$, we traverse using RNN and obtain parameters of distribution $ q(\\textbf{z}_{t_{0}} | \\{ \\textbf{x}_{t_{i}}, t_{i} \\}_{i}, \\theta_{enc})$. The algorithm is the following:\n",
    "\n",
    "\n",
    "\n",
    "1. Run an RNN encoder through the time series and infer the parameters for the a posterior over $ \\textbf{z}_{t_{0}}$:\n",
    "$$ q(\\textbf{z}_{t_{0}} | \\{ \\textbf{x}_{t_{i}}, t_{i} \\}_{i}, \\phi) = \\mathcal{N}(\\textbf{z}_{t_{0}} | \\mu_{\\textbf{z}_{t_{0}}}, \\sigma_{\\textbf{z}_{0}}) $$\n",
    "\n",
    "where $\\mu_{z_{0}}, \\sigma_{z_{0}}$ comes from hidden state of $ RNN(\\{ \\textbf{x}_{t_{i}} , t_{i} \\}_{i}, \\phi) $"
   ]
  },
  {
   "cell_type": "code",
   "execution_count": null,
   "metadata": {},
   "outputs": [],
   "source": [
    "# import\n",
    "import numpy as np\n",
    "import pandas as pd\n",
    "import tensorflow as tf\n",
    "from keras.models import Sequential\n",
    "from keras.layers import Gru\n",
    "\n",
    "# obtain simple time series with simple quadratic relation\n",
    "df = pd.read_csv('./data.csv')\n",
    "# print(df)"
   ]
  },
  {
   "cell_type": "markdown",
   "metadata": {},
   "source": [
    "Define the autoencoder model"
   ]
  },
  {
   "cell_type": "code",
   "execution_count": null,
   "metadata": {
    "collapsed": true
   },
   "outputs": [],
   "source": [
    "# Run an RNN encoder on the time series\n",
    "\n",
    "# Define autoencoder model\n",
    "model = Sequential()\n",
    "model.add(Gru(inp_dim, out_dim, return_sequence=False))\n",
    "\n",
    "# Run the autoencoder"
   ]
  },
  {
   "cell_type": "code",
   "execution_count": null,
   "metadata": {
    "collapsed": true
   },
   "outputs": [],
   "source": []
  }
 ],
 "metadata": {
  "kernelspec": {
   "display_name": "Python [default]",
   "language": "python",
   "name": "python3"
  },
  "language_info": {
   "codemirror_mode": {
    "name": "ipython",
    "version": 3
   },
   "file_extension": ".py",
   "mimetype": "text/x-python",
   "name": "python",
   "nbconvert_exporter": "python",
   "pygments_lexer": "ipython3",
   "version": "3.5.3"
  }
 },
 "nbformat": 4,
 "nbformat_minor": 2
}
