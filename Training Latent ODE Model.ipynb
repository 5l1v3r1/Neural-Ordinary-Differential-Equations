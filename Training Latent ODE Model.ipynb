{
 "cells": [
  {
   "cell_type": "code",
   "execution_count": 44,
   "metadata": {},
   "outputs": [],
   "source": [
    "%matplotlib inline\n",
    "\n",
    "# import\n",
    "import numpy\n",
    "import pandas as pd\n",
    "import autograd_extended\n",
    "import tensorflow as tf\n",
    "import matplotlib.pyplot as plt\n",
    "\n",
    "from keras.models import Model\n",
    "from keras.layers import LSTM, Input, Lambda, Dense, RepeatVector\n",
    "from keras import backend as K\n",
    "from keras import objectives\n",
    "\n",
    "import scipy.integrate\n",
    "\n",
    "import autograd.numpy as np\n",
    "from autograd import make_vjp, grad\n",
    "from autograd.extend import primitive, defvjp_argnums\n",
    "from autograd.misc import flatten\n",
    "from autograd.builtins import tuple\n",
    "from autograd.misc.optimizers import adam\n",
    "\n",
    "odeint = primitive(scipy.integrate.odeint)"
   ]
  },
  {
   "cell_type": "markdown",
   "metadata": {},
   "source": [
    "# Training the latent ODE model\n",
    "<strong>From appendix D</strong>\n",
    "\n",
    "To obtain the latent representation $z_{t_{0}}$, we traverse using RNN and obtain parameters of distribution $ q(\\textbf{z}_{t_{0}} | \\{ \\textbf{x}_{t_{i}}, t_{i} \\}_{i}, \\theta_{enc})$. The algorithm is the following:\n",
    "\n",
    "\n",
    "## Step 1\n",
    "Run an RNN encoder through the time series and infer the parameters for the a posterior over $ \\textbf{z}_{t_{0}}$:\n",
    "$$ q(\\textbf{z}_{t_{0}} | \\{ \\textbf{x}_{t_{i}}, t_{i} \\}_{i}, \\phi) = \\mathcal{N}(\\textbf{z}_{t_{0}} | \\mu_{\\textbf{z}_{t_{0}}}, \\sigma_{\\textbf{z}_{0}}) $$\n",
    "\n",
    "where $\\mu_{z_{0}}, \\sigma_{z_{0}}$ comes from hidden state of $ RNN(\\{ \\textbf{x}_{t_{i}} , t_{i} \\}_{i}, \\phi) $\n",
    "\n",
    "## Step 2\n",
    "Sample $ \\textbf{z}_{t_{0}} \\sim q(\\textbf{z}_{t_{0}} | \\{ \\textbf{x}_{t_{i}}, t_{i} \\}_{i}) $"
   ]
  },
  {
   "cell_type": "code",
   "execution_count": 45,
   "metadata": {
    "collapsed": true
   },
   "outputs": [],
   "source": [
    "# Process Data\n",
    "\n",
    "# obtain simple time series with sine function\n",
    "df = pd.read_csv('./data.csv')\n",
    "\n",
    "x, y = df[\"x\"], df[\"y\"]\n",
    "\n",
    "# split y into timesteps for training (-1, 100, 1) we use a sliding window\n",
    "timesteps = 5\n",
    "\n",
    "newY = []\n",
    "for i in range(0, len(y)-timesteps):\n",
    "    temp = y[i:i+timesteps]\n",
    "    \n",
    "    temp_ls = []\n",
    "    for j in temp:\n",
    "        temp_ls.append([j])\n",
    "    newY.append(temp_ls)\n",
    "    \n",
    "y = np.array(newY)"
   ]
  },
  {
   "cell_type": "markdown",
   "metadata": {},
   "source": [
    "Define and run the autoencoder model"
   ]
  },
  {
   "cell_type": "code",
   "execution_count": 46,
   "metadata": {},
   "outputs": [
    {
     "name": "stdout",
     "output_type": "stream",
     "text": [
      "Epoch 1/20\n",
      "1995/1995 [==============================] - 6s 3ms/step - loss: 0.5040\n",
      "Epoch 2/20\n",
      "1995/1995 [==============================] - 2s 1ms/step - loss: 0.4752\n",
      "Epoch 3/20\n",
      "1995/1995 [==============================] - 2s 999us/step - loss: 0.4647\n",
      "Epoch 4/20\n",
      "1995/1995 [==============================] - 2s 983us/step - loss: 0.4599\n",
      "Epoch 5/20\n",
      "1995/1995 [==============================] - 2s 926us/step - loss: 0.4488\n",
      "Epoch 6/20\n",
      "1995/1995 [==============================] - 2s 1ms/step - loss: 0.4069\n",
      "Epoch 7/20\n",
      "1995/1995 [==============================] - 2s 942us/step - loss: 0.3175\n",
      "Epoch 8/20\n",
      "1995/1995 [==============================] - 2s 995us/step - loss: 0.2431\n",
      "Epoch 9/20\n",
      "1995/1995 [==============================] - 2s 1ms/step - loss: 0.2179\n",
      "Epoch 10/20\n",
      "1995/1995 [==============================] - 2s 950us/step - loss: 0.2021\n",
      "Epoch 11/20\n",
      "1995/1995 [==============================] - 2s 1ms/step - loss: 0.1881\n",
      "Epoch 12/20\n",
      "1995/1995 [==============================] - 2s 1ms/step - loss: 0.1802\n",
      "Epoch 13/20\n",
      "1995/1995 [==============================] - 2s 1ms/step - loss: 0.1734\n",
      "Epoch 14/20\n",
      "1995/1995 [==============================] - 2s 953us/step - loss: 0.1629\n",
      "Epoch 15/20\n",
      "1995/1995 [==============================] - 2s 939us/step - loss: 0.1601\n",
      "Epoch 16/20\n",
      "1995/1995 [==============================] - 2s 1ms/step - loss: 0.1570\n",
      "Epoch 17/20\n",
      "1995/1995 [==============================] - 2s 1ms/step - loss: 0.1520\n",
      "Epoch 18/20\n",
      "1995/1995 [==============================] - 2s 1ms/step - loss: 0.1479\n",
      "Epoch 19/20\n",
      "1995/1995 [==============================] - 2s 963us/step - loss: 0.1423\n",
      "Epoch 20/20\n",
      "1995/1995 [==============================] - 2s 934us/step - loss: 0.1407\n"
     ]
    },
    {
     "data": {
      "text/plain": [
       "<keras.callbacks.History at 0x7fa980aaf080>"
      ]
     },
     "execution_count": 46,
     "metadata": {},
     "output_type": "execute_result"
    }
   ],
   "source": [
    "# Run an RNN encoder on the time series\n",
    "\n",
    "# Params\n",
    "timesteps = 5\n",
    "input_dim = 1\n",
    "lstm_dim = 32\n",
    "latent_dim = 100\n",
    "batch_size = 1\n",
    "\n",
    "# Encoder model\n",
    "def sample_z(args):\n",
    "    \"\"\"Reparameterization trick by sampling fr an isotropic unit Gaussian.\n",
    "    # Arguments:\n",
    "        args (tensor): mean and log of variance of Q(z|X)\n",
    "    # Returns:\n",
    "        z (tensor): sampled latent vector\n",
    "    \"\"\"\n",
    "\n",
    "    z_mean, z_log_var = args\n",
    "    batch = K.shape(z_mean)[0]\n",
    "    dim = K.int_shape(z_mean)[1]\n",
    "    # by default, random_normal has mean=0 and std=1.0\n",
    "    epsilon = K.random_normal(shape=(batch, dim))\n",
    "    return z_mean + K.exp(0.5 * z_log_var) * epsilon\n",
    "\n",
    "\n",
    "# Input\n",
    "inputs = Input(shape=(timesteps, input_dim,), name='encoder_input')\n",
    "\n",
    "# LSTM encoding\n",
    "h = LSTM(lstm_dim)(inputs)\n",
    "\n",
    "# VAE Z layer\n",
    "z_mean = Dense(latent_dim)(h)\n",
    "z_log_sigma = Dense(latent_dim)(h)\n",
    "\n",
    "# Obtain z\n",
    "z = Lambda(sample_z, output_shape=(latent_dim,))([z_mean, z_log_sigma])\n",
    "\n",
    "# Encoder for sanity checking\n",
    "encoder = Model(inputs, z_mean, name=\"encoder\")\n",
    "\n",
    "# Encoder to extract z values\n",
    "encoder_z = Model(inputs, z, name=\"encoder_z\")\n",
    "\n",
    "# Decoder model\n",
    "decoder_h = LSTM(lstm_dim, return_sequences=True)\n",
    "decoder_mean = LSTM(input_dim, return_sequences=True)\n",
    "\n",
    "h_decoded = RepeatVector(timesteps)(z)\n",
    "h_decoded = decoder_h(h_decoded)\n",
    "\n",
    "# decoded layer\n",
    "outputs = decoder_mean(h_decoded)\n",
    "\n",
    "# decoder, from latent space to reconstructed inputs\n",
    "decoder_inputs = Input(shape=(latent_dim,))\n",
    "\n",
    "_h_decoded = RepeatVector(timesteps)(decoder_inputs)\n",
    "_h_decoded = decoder_h(_h_decoded)\n",
    "\n",
    "decoder_outputs = decoder_mean(_h_decoded)\n",
    "\n",
    "decoder = Model(decoder_inputs, decoder_outputs)\n",
    "\n",
    "# Build vae\n",
    "vae = Model(inputs, outputs, name='vae_lstm')\n",
    "def vae_loss(x, x_decoded_mean):\n",
    "    xent_loss = objectives.mse(x, x_decoded_mean)\n",
    "    kl_loss = - 0.5 * K.mean(1 + z_log_sigma - K.square(z_mean) - K.exp(z_log_sigma))\n",
    "    loss = xent_loss + kl_loss\n",
    "    return loss\n",
    "\n",
    "vae.compile(optimizer='adam', loss=vae_loss)\n",
    "\n",
    "# Uncomment to print a summary\n",
    "# encoder.summary()\n",
    "# decoder.summary()\n",
    "# vae.summary()\n",
    "\n",
    "# Train the VAE to obtain z\n",
    "vae.fit(y, y, epochs=20)"
   ]
  },
  {
   "cell_type": "code",
   "execution_count": 47,
   "metadata": {},
   "outputs": [
    {
     "name": "stdout",
     "output_type": "stream",
     "text": [
      "x: (1995, 5, 1), preds: (1995, 5, 1)\n"
     ]
    },
    {
     "data": {
      "image/png": "[encoded data removed]",
      "text/plain": [
       "<Figure size 432x288 with 1 Axes>"
      ]
     },
     "metadata": {
      "needs_background": "light"
     },
     "output_type": "display_data"
    }
   ],
   "source": [
    "# Sanity check, we should get a sine graph\n",
    "prediction = vae.predict(y, batch_size=batch_size)\n",
    "\n",
    "# pick a column to plot.\n",
    "print(\"x: %s, preds: %s\" % (y.shape, prediction.shape))\n",
    "plt.plot(y[:100,0,0], label='data')\n",
    "plt.plot(prediction[:100,0,0], label='predict')\n",
    "plt.legend()\n",
    "plt.show()"
   ]
  },
  {
   "cell_type": "markdown",
   "metadata": {},
   "source": [
    "## Step 3\n",
    "Obtain $\\textbf{z}_{t_{1}}, \\textbf{z}_{t_{2}}, ..., \\textbf{z}_{t_{M}} $ by solving ODE $ ODESolve(\\textbf{z}_{t_{0}}, f, \\theta_{f}, t_{0},...,t_{M})$ where $f$ is the function defining the gradient $d\\textbf{z}/{dt}$ as a function of $\\textbf{z}$"
   ]
  },
  {
   "cell_type": "code",
   "execution_count": 48,
   "metadata": {},
   "outputs": [
    {
     "name": "stdout",
     "output_type": "stream",
     "text": [
      "(1995, 5, 1)\n",
      "[[-0.96730685 -0.30260754 -1.2165959  ... -0.1712243   0.16253346\n",
      "   0.1311233 ]\n",
      " [ 0.8523834   1.3523002  -0.5332169  ...  0.5856302   0.80972576\n",
      "  -0.4475613 ]\n",
      " [ 1.7198956   1.1818202  -0.38006347 ... -0.61021274 -0.8827091\n",
      "  -1.177722  ]\n",
      " ...\n",
      " [ 1.5871499   0.38149977 -1.2908301  ...  1.5604678  -1.1208996\n",
      "  -0.05023703]\n",
      " [ 0.60470605  2.166283    0.07132202 ... -0.35144055 -1.2759343\n",
      "  -1.1601465 ]\n",
      " [-0.84649354 -0.5831001  -0.44895828 ...  1.4420025   0.8956648\n",
      "  -2.1960166 ]]\n"
     ]
    }
   ],
   "source": [
    "# We obtain z values from the prior sample by using the predict function\n",
    "# As the dataset here is small we just use all y values\n",
    "z_val = encoder_z.predict(y)\n",
    "print(prediction.shape)\n",
    "print(z_val)"
   ]
  },
  {
   "cell_type": "code",
   "execution_count": 49,
   "metadata": {},
   "outputs": [],
   "source": [
    "# From Appendix B\n",
    "# For clarity: vjp stands for Vector Jacobian Product\n",
    "\n",
    "def grad_odeint_all(yt, func, y0, t, func_args, **kwargs):\n",
    "    \"\"\"\n",
    "    Extended from \"Scalable Inference of Ordinary Differential\"\n",
    "    Equation Models of Biochemical Processes\". Sec. 2.4.2\n",
    "    Fabian Froehlich, Carolin Loos, Jan Hasenauer, 2017\n",
    "    https://arxiv.org/pdf/1711.08079.pdf\n",
    "    \"\"\"\n",
    "    T, D = np.shape(yt)\n",
    "    flat_args, unflatten = flatten(func_args)\n",
    "    \n",
    "    def flat_func(y, t, flat_args):\n",
    "        return func(y, t, *unflatten(flat_args))\n",
    "\n",
    "    def unpack(x):\n",
    "        #      y,      vjp_y,      vjp_t,    vjp_args\n",
    "        return x[0:D], x[D:2 * D], x[2 * D], x[2 * D + 1:]\n",
    "\n",
    "    def augmented_dynamics(augmented_state, t, flat_args):\n",
    "        \"\"\"\n",
    "        Original system augemented with vjp_y, vjp_t and vjp_args \n",
    "        \"\"\"\n",
    "        y, vjp_y, _, _ = unpack(augmented_state)\n",
    "        vjp_all, dy_dt = make_vjp(flat_func, argnum=(0, 1, 2))(y, t, flat_args)\n",
    "        vjp_y, vjp_t, vjp_args = vjp_all(-vjp_y)\n",
    "        return np.hstack((dy_dt, vjp_y, vjp_t, vjp_args))\n",
    "\n",
    "    def vjp_all(g):\n",
    "        vjp_y = g[-1, :]\n",
    "        vjp_t0 = 0\n",
    "        time_vjp_list = []\n",
    "        vjp_args = np.zeros(np.size(flat_args))\n",
    "        \n",
    "        for i in range(T - 1, 0, -1):\n",
    "\n",
    "            # Compute effect of moving measurement time.\n",
    "            vjp_cur_t = np.dot(func(yt[i, :], t[i], *func_args), g[i, :])\n",
    "            time_vjp_list.append(vjp_cur_t)\n",
    "            vjp_t0 = vjp_t0 - vjp_cur_t\n",
    "\n",
    "            # Run augmented system backwards to the previous observation.\n",
    "            aug_y0 = np.hstack((yt[i, :], vjp_y, vjp_t0, vjp_args))\n",
    "            aug_ans = odeint(augmented_dynamics, aug_y0,\n",
    "                             np.array([t[i], t[i - 1]]), tuple((flat_args,)), **kwargs)\n",
    "            _, vjp_y, vjp_t0, vjp_args = unpack(aug_ans[1])\n",
    "\n",
    "            # Add gradient from current output.\n",
    "            vjp_y = vjp_y + g[i - 1, :]\n",
    "\n",
    "        time_vjp_list.append(vjp_t0)\n",
    "        vjp_times = np.hstack(time_vjp_list)[::-1]\n",
    "\n",
    "        return None, vjp_y, vjp_times, unflatten(vjp_args)\n",
    "    return vjp_all\n",
    "\n",
    "\n",
    "def argnums_unpack(all_vjp_builder):\n",
    "    \"\"\"\n",
    "    A generic autograd helper function.  Takes a function that\n",
    "    builds vjps for all arguments, and wraps it to return only required vjps.\n",
    "    \"\"\"\n",
    "\n",
    "    def build_selected_vjps(argnums, ans, combined_args, kwargs):\n",
    "        vjp_func = all_vjp_builder(ans, *combined_args, **kwargs)\n",
    "\n",
    "        def chosen_vjps(g):  # Returns whichever vjps were asked for.\n",
    "            all_vjps = vjp_func(g)\n",
    "            return [all_vjps[argnum] for argnum in argnums]\n",
    "        return chosen_vjps\n",
    "    return build_selected_vjps\n",
    "\n",
    "\n",
    "# After performing defvjp_argnums, we can use odeint() as a function anywhere now\n",
    "# Details of implementation found in autograd library\n",
    "# https://github.com/HIPS/autograd/blob/master/autograd/core.py\n",
    "\n",
    "defvjp_argnums(odeint, argnums_unpack(grad_odeint_all))"
   ]
  },
  {
   "cell_type": "code",
   "execution_count": 55,
   "metadata": {},
   "outputs": [],
   "source": [
    "# define f as sin function\n",
    "f = lambda y, t0, z: np.dot(np.sin(y), z)\n",
    "\n",
    "t = np.linspace(0., max_T, N)\n",
    "# odeint(yt, func, y0, t)\n",
    "\n",
    "# TODO"
   ]
  },
  {
   "cell_type": "markdown",
   "metadata": {},
   "source": [
    "## Step 4\n",
    "Maximize ELBO (Evidence Lower Bound) \n",
    "$$ ELBO = \\sum^{M}_{i=1}\n",
    "        {\n",
    "             \\log p(\\textbf{x}_{t_{i}}) | \\textbf{z}_{t_{i}}, \\theta_{\\textbf{x}} ) \n",
    "             + \\log p(\\textbf{z}_{t_{0}})\n",
    "             - \\log q(\\textbf{z}_{t_{0}} | \\{ \\textbf{x}_{t_{i}}, t_{i} \\}_{i}, \\phi)\n",
    "        }  \n",
    "$$\n",
    "\n",
    "Where $p(\\textbf{z}_{t_{0}}) = \\mathcal{N}(0,1)$"
   ]
  },
  {
   "cell_type": "code",
   "execution_count": 54,
   "metadata": {},
   "outputs": [],
   "source": [
    "# TODO"
   ]
  },
  {
   "cell_type": "code",
   "execution_count": null,
   "metadata": {
    "collapsed": true
   },
   "outputs": [],
   "source": []
  }
 ],
 "metadata": {
  "kernelspec": {
   "display_name": "Python [conda env:catalyst]",
   "language": "python",
   "name": "conda-env-catalyst-py"
  },
  "language_info": {
   "codemirror_mode": {
    "name": "ipython",
    "version": 3
   },
   "file_extension": ".py",
   "mimetype": "text/x-python",
   "name": "python",
   "nbconvert_exporter": "python",
   "pygments_lexer": "ipython3",
   "version": "3.6.4"
  }
 },
 "nbformat": 4,
 "nbformat_minor": 2
}
