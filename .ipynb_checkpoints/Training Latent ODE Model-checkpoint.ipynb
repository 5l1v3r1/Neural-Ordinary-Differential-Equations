{
 "cells": [
  {
   "cell_type": "markdown",
   "metadata": {},
   "source": [
    "# Training the latent ODE model\n",
    "<strong>From appendix D</strong>\n",
    "\n",
    "To obtain the latent representation $z_{t_{0}}$, we traverse using RNN and obtain parameters of distribution $ q(\\textbf{z}_{t_{0}} | \\{ \\textbf{x}_{t_{i}}, t_{i} \\}_{i}, \\theta_{enc})$. The algorithm is the following:\n",
    "\n",
    "\n",
    "\n",
    "1. Run an RNN encoder through the time series and infer the parameters for the a posterior over $ \\textbf{z}_{t_{0}}$:\n",
    "$$ q(\\textbf{z}_{t_{0}} | \\{ \\textbf{x}_{t_{i}}, t_{i} \\}_{i}, \\phi) = \\mathcal{N}(\\textbf{z}_{t_{0}} | \\mu_{\\textbf{z}_{t_{0}}}, \\sigma_{\\textbf{z}_{0}}) $$\n",
    "\n",
    "where $\\mu_{z_{0}}, \\sigma_{z_{0}}$ comes from hidden state of $ RNN(\\{ \\textbf{x}_{t_{i}} , t_{i} \\}_{i}, \\phi) $"
   ]
  },
  {
   "cell_type": "code",
   "execution_count": 2,
   "metadata": {},
   "outputs": [
    {
     "name": "stdout",
     "output_type": "stream",
     "text": [
      "     0   0.1\n",
      "0    1     1\n",
      "1    2     4\n",
      "2    3     9\n",
      "3    4    16\n",
      "4    5    25\n",
      "5    6    36\n",
      "6    7    49\n",
      "7    8    64\n",
      "8    9    81\n",
      "9   10   100\n",
      "10  11   121\n",
      "11  12   144\n",
      "12  13   169\n",
      "13  14   196\n",
      "14  15   225\n",
      "15  16   256\n",
      "16  17   289\n",
      "17  18   324\n",
      "18  19   361\n",
      "19  20   400\n",
      "20  21   441\n",
      "21  22   484\n",
      "22  23   529\n",
      "23  24   576\n",
      "24  25   625\n",
      "25  26   676\n",
      "26  27   729\n",
      "27  28   784\n",
      "28  29   841\n",
      "29  30   900\n",
      "30  31   961\n",
      "31  32  1024\n",
      "32  33  1089\n",
      "33  34  1156\n",
      "34  35  1225\n",
      "35  36  1296\n",
      "36  37  1369\n",
      "37  38  1444\n",
      "38  39  1521\n",
      "39  40  1600\n",
      "40  41  1681\n",
      "41  42  1764\n",
      "42  43  1849\n",
      "43  44  1936\n",
      "44  45  2025\n",
      "45  46  2116\n",
      "46  47  2209\n",
      "47  48  2304\n",
      "48  49  2401\n"
     ]
    }
   ],
   "source": [
    "# import\n",
    "import numpy as np\n",
    "import pandas as pd\n",
    "\n",
    "# obtain simple time series simple quadratic relation\n",
    "df = pd.read_csv('./data.csv')\n",
    "print(df)"
   ]
  },
  {
   "cell_type": "code",
   "execution_count": 3,
   "metadata": {},
   "outputs": [],
   "source": [
    "# Run an RNN encoder on the time series\n",
    "# TODO"
   ]
  },
  {
   "cell_type": "code",
   "execution_count": null,
   "metadata": {},
   "outputs": [],
   "source": []
  }
 ],
 "metadata": {
  "kernelspec": {
   "display_name": "Python 3",
   "language": "python",
   "name": "python3"
  },
  "language_info": {
   "codemirror_mode": {
    "name": "ipython",
    "version": 3
   },
   "file_extension": ".py",
   "mimetype": "text/x-python",
   "name": "python",
   "nbconvert_exporter": "python",
   "pygments_lexer": "ipython3",
   "version": "3.6.4"
  }
 },
 "nbformat": 4,
 "nbformat_minor": 2
}
